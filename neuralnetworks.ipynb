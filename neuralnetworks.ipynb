{
 "cells": [
  {
   "cell_type": "markdown",
   "metadata": {},
   "source": [
    "# Building some neural networks"
   ]
  },
  {
   "cell_type": "markdown",
   "metadata": {},
   "source": [
    "1. Neural Network Classifier with Scikit\n",
    "\n",
    "Using the multi-label classifier dataset (categorized-comments.jsonl), fit a neural network classifier using scikit-learn to predict the comment category.Report the accuracy, precision, recall, F1-score, and confusion matrix.\n",
    "\n",
    "2. Neural Network Classifier with Keras\n",
    "\n",
    "Using the multi-label classifier dataset (categorized-comments.jsonl), fit a neural network classifier with Keras to predict the comment category. Report the accuracy, precision, recall, F1-score, and confusion matrix.\n",
    "\n",
    "3. Classifying Images\n",
    "\n",
    "Classify MSINT images using a convolutional neural network. Report the accuracy of your results.\n",
    "\n",
    "Code References: \n",
    "Li, S. (2018, February 20). Multi-class text classification with Scikit-Learn. Medium. Retrieved November 8, 2021, from https://towardsdatascience.com/multi-class-text-classification-with-scikit-learn-12f1e60e0a9f. \n",
    "\n",
    "Sanikamal. (2021, October 19). Text classification with python and keras. Kaggle. Retrieved November 8, 2021, from https://www.kaggle.com/sanikamal/text-classification-with-python-and-keras. \n",
    "\n",
    "Albon, C. (2018). Chapter 20. In Machine learning with python cookbook: Practical solutions from preprocessing to Deep Learning. essay, O'Reilly Media. "
   ]
  },
  {
   "cell_type": "code",
   "execution_count": 1,
   "metadata": {},
   "outputs": [
    {
     "name": "stderr",
     "output_type": "stream",
     "text": [
      "Using TensorFlow backend.\n"
     ]
    }
   ],
   "source": [
    "#import json library to read data in jsonl file\n",
    "import pandas as pd\n",
    "import numpy as np\n",
    "\n",
    "#import regular expression package to process text\n",
    "import re\n",
    "\n",
    "#import NLTK text processing packages\n",
    "import nltk\n",
    "from nltk.corpus import stopwords\n",
    "from nltk.tokenize import word_tokenize\n",
    "\n",
    "#import scikit-learn packages\n",
    "import sklearn\n",
    "#from sklearn.feature_extraction.text import CountVectorizer\n",
    "from sklearn.model_selection import train_test_split\n",
    "#from sklearn.metrics import accuracy_score, confusion_matrix, roc_auc_score, auc, precision_recall_fscore_support\n",
    "#from sklearn.metrics import classification_report\n",
    "from sklearn.neural_network import MLPClassifier\n",
    "\n",
    "import keras"
   ]
  },
  {
   "cell_type": "code",
   "execution_count": 2,
   "metadata": {},
   "outputs": [
    {
     "name": "stdout",
     "output_type": "stream",
     "text": [
      "pandas version: 1.1.5\n",
      "scikit-learn version: 0.24.1\n",
      "NLTK version: 3.2.5\n",
      "Keras version: 2.3.1\n"
     ]
    }
   ],
   "source": [
    "#check versions of packages\n",
    "print('pandas version:', pd.__version__)\n",
    "print('scikit-learn version:', sklearn.__version__)\n",
    "print('NLTK version:', nltk.__version__)\n",
    "print('Keras version:', keras.__version__)"
   ]
  },
  {
   "cell_type": "code",
   "execution_count": 3,
   "metadata": {},
   "outputs": [],
   "source": [
    "#import the data as a pandas dataframe\n",
    "#importing all rows except the last one, which is cut off\n",
    "df_txt = pd.read_json('categorized-comments.jsonl', lines = True, nrows = 606475)"
   ]
  },
  {
   "cell_type": "markdown",
   "metadata": {},
   "source": [
    "## Data Exploration \n",
    "We will do some data exploration to see what we are working with."
   ]
  },
  {
   "cell_type": "code",
   "execution_count": 4,
   "metadata": {},
   "outputs": [
    {
     "name": "stdout",
     "output_type": "stream",
     "text": [
      "(606475, 2)\n"
     ]
    },
    {
     "data": {
      "text/html": [
       "<div>\n",
       "<style scoped>\n",
       "    .dataframe tbody tr th:only-of-type {\n",
       "        vertical-align: middle;\n",
       "    }\n",
       "\n",
       "    .dataframe tbody tr th {\n",
       "        vertical-align: top;\n",
       "    }\n",
       "\n",
       "    .dataframe thead th {\n",
       "        text-align: right;\n",
       "    }\n",
       "</style>\n",
       "<table border=\"1\" class=\"dataframe\">\n",
       "  <thead>\n",
       "    <tr style=\"text-align: right;\">\n",
       "      <th></th>\n",
       "      <th>cat</th>\n",
       "      <th>txt</th>\n",
       "    </tr>\n",
       "  </thead>\n",
       "  <tbody>\n",
       "    <tr>\n",
       "      <th>0</th>\n",
       "      <td>sports</td>\n",
       "      <td>Barely better than Gabbert? He was significant...</td>\n",
       "    </tr>\n",
       "    <tr>\n",
       "      <th>1</th>\n",
       "      <td>sports</td>\n",
       "      <td>Fuck the ducks and the Angels! But welcome to ...</td>\n",
       "    </tr>\n",
       "    <tr>\n",
       "      <th>2</th>\n",
       "      <td>sports</td>\n",
       "      <td>Should have drafted more WRs.\\n\\n- Matt Millen...</td>\n",
       "    </tr>\n",
       "    <tr>\n",
       "      <th>3</th>\n",
       "      <td>sports</td>\n",
       "      <td>[Done](https://i.imgur.com/2YZ90pm.jpg)</td>\n",
       "    </tr>\n",
       "    <tr>\n",
       "      <th>4</th>\n",
       "      <td>sports</td>\n",
       "      <td>No!! NOO!!!!!</td>\n",
       "    </tr>\n",
       "  </tbody>\n",
       "</table>\n",
       "</div>"
      ],
      "text/plain": [
       "      cat                                                txt\n",
       "0  sports  Barely better than Gabbert? He was significant...\n",
       "1  sports  Fuck the ducks and the Angels! But welcome to ...\n",
       "2  sports  Should have drafted more WRs.\\n\\n- Matt Millen...\n",
       "3  sports            [Done](https://i.imgur.com/2YZ90pm.jpg)\n",
       "4  sports                                      No!! NOO!!!!!"
      ]
     },
     "execution_count": 4,
     "metadata": {},
     "output_type": "execute_result"
    }
   ],
   "source": [
    "print(df_txt.shape)\n",
    "df_txt.head()"
   ]
  },
  {
   "cell_type": "code",
   "execution_count": 5,
   "metadata": {},
   "outputs": [
    {
     "data": {
      "text/html": [
       "<div>\n",
       "<style scoped>\n",
       "    .dataframe tbody tr th:only-of-type {\n",
       "        vertical-align: middle;\n",
       "    }\n",
       "\n",
       "    .dataframe tbody tr th {\n",
       "        vertical-align: top;\n",
       "    }\n",
       "\n",
       "    .dataframe thead th {\n",
       "        text-align: right;\n",
       "    }\n",
       "</style>\n",
       "<table border=\"1\" class=\"dataframe\">\n",
       "  <thead>\n",
       "    <tr style=\"text-align: right;\">\n",
       "      <th></th>\n",
       "      <th>cat</th>\n",
       "      <th>txt</th>\n",
       "    </tr>\n",
       "  </thead>\n",
       "  <tbody>\n",
       "    <tr>\n",
       "      <th>count</th>\n",
       "      <td>606475</td>\n",
       "      <td>606475</td>\n",
       "    </tr>\n",
       "    <tr>\n",
       "      <th>unique</th>\n",
       "      <td>3</td>\n",
       "      <td>559016</td>\n",
       "    </tr>\n",
       "    <tr>\n",
       "      <th>top</th>\n",
       "      <td>video_games</td>\n",
       "      <td>[deleted]</td>\n",
       "    </tr>\n",
       "    <tr>\n",
       "      <th>freq</th>\n",
       "      <td>435541</td>\n",
       "      <td>19097</td>\n",
       "    </tr>\n",
       "  </tbody>\n",
       "</table>\n",
       "</div>"
      ],
      "text/plain": [
       "                cat        txt\n",
       "count        606475     606475\n",
       "unique            3     559016\n",
       "top     video_games  [deleted]\n",
       "freq         435541      19097"
      ]
     },
     "execution_count": 5,
     "metadata": {},
     "output_type": "execute_result"
    }
   ],
   "source": [
    "#summarize the data\n",
    "df_txt.describe(include = 'O')"
   ]
  },
  {
   "cell_type": "markdown",
   "metadata": {},
   "source": [
    "We can see the comments are put into three different categories. Also, we see that there are some comments that have been deleted. Let's explore this a bit more."
   ]
  },
  {
   "cell_type": "code",
   "execution_count": 6,
   "metadata": {},
   "outputs": [
    {
     "data": {
      "text/plain": [
       "[deleted]                                                                                                                                                                                                                                                                                                                                                                                                                                                                                                                                                                                                                                                                                                                                                                                                                                                                                                                                                                                              19097\n",
       "[removed]                                                                                                                                                                                                                                                                                                                                                                                                                                                                                                                                                                                                                                                                                                                                                                                                                                                                                                                                                                                               9953\n",
       "Direct links to images are not allowed; as such, your post has been removed.  Please submit your post as a [discussion (self) post](/r/Overwatch/submit?selftext=true) with some context about the image. If you're submitting fanart, you may link directly to a DeviantArt page, ArtStation portfolio, blog, etc.  If you're submitting a Play of the Game or other Highlight, you'll need to use a Video/GIF host such as YouTube or Gfycat.   \\n\\nImgur posts are automatically removed, even if its a GIFV, as we're not able to detect which type it is.\\n\\n[Please see the subreddit rules for more information.](/r/Overwatch/wiki/rules) Thanks! \\n\\n\\n*I am a bot, and this action was performed automatically. Please [contact the moderators of this subreddit](/message/compose/?to=/r/Overwatch) if you have any questions or concerns.*                                                                                                                                                   690\n",
       "Hey there!\\n\\nThank you for your post, but this type of question belongs in our [Daily Question Thread](https://rNintendoSwitch.com/question-megathread?ref=toolbox). Questions belonging in there are:\\n\\n* Frequently asked questions\\n* Easily searchable questions on Nintendo.com or Google\\n* Requests for help with technical problems\\n* \"Yes or No\", \"A or B\", or other simple answer questions.\\n\\nYou may also find your answer by taking a look at the [/r/NintendoSwitch wiki](https://rNintendoSwitch.com/wiki?ref=toolbox), or by asking on our [Discord server](https://discord.gg/switch). \\n\\n\\n\\n---\\n\\nIf you have questions or objections about this removal, please [reach out to us in modmail](https://www.reddit.com/message/compose?to=%2Fr%2FNintendoSwitch).                                                                                                                                                                                                                 342\n",
       "Images or screenshots uploaded through the Reddit app or the reddit website are not allowed; as such, your post has been removed.  We only allow images as part of a discussion post, or if hosted on a portfolio site. \\n\\nYou may submit your post as a [discussion (self) post](/r/Overwatch/submit?selftext=true) with some context about the image. If you're submitting fanart, you may link directly to a DeviantArt page, ArtStation portfolio, blog, etc.  If you're submitting a Play of the Game or other Highlight, you'll need to use a Video/GIF host such as YouTube or Gfycat. \\n\\nImgur posts are automatically removed, even if its a GIFV, as we're not able to detect which type it is.\\n\\n[Please see the subreddit rules for more information.](/r/Overwatch/wiki/rules) Thanks! \\n\\n\\n*I am a bot, and this action was performed automatically. Please [contact the moderators of this subreddit](/message/compose/?to=/r/Overwatch) if you have any questions or concerns.*      295\n",
       "Name: txt, dtype: int64"
      ]
     },
     "execution_count": 6,
     "metadata": {},
     "output_type": "execute_result"
    }
   ],
   "source": [
    "#get value counts on the comments\n",
    "df_txt['txt'].value_counts().nlargest(5)"
   ]
  },
  {
   "cell_type": "markdown",
   "metadata": {},
   "source": [
    "Let's remove the comments that are \"[removed]\" or \"[deleted]\". There are more that could be removed, but this will do for our purposes. We will also take a smaller sample from our dataset to make the neural networks train more quickly."
   ]
  },
  {
   "cell_type": "code",
   "execution_count": 7,
   "metadata": {},
   "outputs": [
    {
     "name": "stdout",
     "output_type": "stream",
     "text": [
      "                cat        txt\n",
      "count        606475     606475\n",
      "unique            3     559016\n",
      "top     video_games  [deleted]\n",
      "freq         435541      19097\n",
      "                cat                                                txt\n",
      "count         10000                                              10000\n",
      "unique            3                                               9913\n",
      "top     video_games  Direct links to images are not allowed; as suc...\n",
      "freq           7144                                                  9\n"
     ]
    }
   ],
   "source": [
    "#remove [deleted] and [removed] text entries\n",
    "sample_size = 10000 #size of our sample\n",
    "df_txt2 = df_txt[(df_txt['txt'] != '[deleted]') & (df_txt['txt'] != '[removed]')].sample(n = sample_size)\n",
    "print(df_txt.describe(include = 'O'))\n",
    "print(df_txt2.describe(include = 'O'))"
   ]
  },
  {
   "cell_type": "code",
   "execution_count": 8,
   "metadata": {},
   "outputs": [
    {
     "data": {
      "text/plain": [
       "video_games               7144\n",
       "sports                    2441\n",
       "science_and_technology     415\n",
       "Name: cat, dtype: int64"
      ]
     },
     "execution_count": 8,
     "metadata": {},
     "output_type": "execute_result"
    }
   ],
   "source": [
    "#get counts of the number of text entries in each category\n",
    "df_txt2['cat'].value_counts()"
   ]
  },
  {
   "cell_type": "markdown",
   "metadata": {},
   "source": [
    "The class sizes are imbalanced. We should keep this in mind when evaluating our model. Next, we will do our text preprocessing to get it ready for training the model."
   ]
  },
  {
   "cell_type": "markdown",
   "metadata": {},
   "source": [
    "## Preprocessing the Text"
   ]
  },
  {
   "cell_type": "code",
   "execution_count": 9,
   "metadata": {},
   "outputs": [],
   "source": [
    "#define a function to clean the text\n",
    "def clean_text(text):\n",
    "    \"\"\"\n",
    "    Remove punctuations and special characters, makes lower case\n",
    "    Args: text \n",
    "    Output: text\n",
    "    \"\"\"    \n",
    "    text=text.lower()\n",
    "    text=re.sub('</?.*?>',' <&gt', text)\n",
    "    text=re.sub('\\\\d|\\\\W+|_',' ',text)\n",
    "    text=re.sub('[^a-zA-Z]',\" \", text)\n",
    "    \n",
    "    return text"
   ]
  },
  {
   "cell_type": "code",
   "execution_count": 10,
   "metadata": {},
   "outputs": [],
   "source": [
    "#define a function to tokenize the text and remove stop words\n",
    "def tokenize_and_remove_stop_words(txt):\n",
    "    \"\"\"\n",
    "    takes in a sentence, tokenizes the words into a list,\n",
    "    and then removes stop words from the tokenized list\n",
    "    \"\"\"\n",
    "    #import the nltk package for tokenizing and removing stop words\n",
    "    import nltk\n",
    "    from nltk.tokenize import word_tokenize\n",
    "    #Note: You may have to run this next commmand to download the NLTK 'punkt' library for the first time\n",
    "    #nltk.download('punkt')\n",
    "    from nltk.corpus import stopwords\n",
    "    #Note: You may need to run this next command to download stopwords for the first time\n",
    "    #nltk.download('stopwords')\n",
    "    stop_words = stopwords.words('english')\n",
    "    \n",
    "    txt_token = word_tokenize(txt)\n",
    "    txt_no_stopwords = [word for word in txt_token if word not in stop_words]\n",
    "    return txt_no_stopwords"
   ]
  },
  {
   "cell_type": "code",
   "execution_count": 11,
   "metadata": {},
   "outputs": [],
   "source": [
    "#define a function to stem the words\n",
    "def stem_text(word_list):\n",
    "    from nltk.stem.porter import PorterStemmer\n",
    "    porter = PorterStemmer()\n",
    "    return [porter.stem(word) for word in word_list]"
   ]
  },
  {
   "cell_type": "code",
   "execution_count": 12,
   "metadata": {},
   "outputs": [
    {
     "data": {
      "text/html": [
       "<div>\n",
       "<style scoped>\n",
       "    .dataframe tbody tr th:only-of-type {\n",
       "        vertical-align: middle;\n",
       "    }\n",
       "\n",
       "    .dataframe tbody tr th {\n",
       "        vertical-align: top;\n",
       "    }\n",
       "\n",
       "    .dataframe thead th {\n",
       "        text-align: right;\n",
       "    }\n",
       "</style>\n",
       "<table border=\"1\" class=\"dataframe\">\n",
       "  <thead>\n",
       "    <tr style=\"text-align: right;\">\n",
       "      <th></th>\n",
       "      <th>cat</th>\n",
       "      <th>txt</th>\n",
       "      <th>txt_clean</th>\n",
       "      <th>txt_token</th>\n",
       "      <th>txt_stem</th>\n",
       "      <th>txt_final</th>\n",
       "    </tr>\n",
       "  </thead>\n",
       "  <tbody>\n",
       "    <tr>\n",
       "      <th>154821</th>\n",
       "      <td>video_games</td>\n",
       "      <td>\"...Come watch TV.\"</td>\n",
       "      <td>come watch tv</td>\n",
       "      <td>[come, watch, tv]</td>\n",
       "      <td>[come, watch, tv]</td>\n",
       "      <td>come watch tv</td>\n",
       "    </tr>\n",
       "    <tr>\n",
       "      <th>307711</th>\n",
       "      <td>video_games</td>\n",
       "      <td>Besides, they can't have it both ways!\\n\\nSome...</td>\n",
       "      <td>besides they can t have it both ways some say ...</td>\n",
       "      <td>[besides, ways, say, problem, steam, letting, ...</td>\n",
       "      <td>[besid, way, say, problem, steam, let, mani, t...</td>\n",
       "      <td>besid way say problem steam let mani trashwar ...</td>\n",
       "    </tr>\n",
       "    <tr>\n",
       "      <th>539151</th>\n",
       "      <td>video_games</td>\n",
       "      <td>Maybe it is?  I always thought hitting w with ...</td>\n",
       "      <td>maybe it is i always thought hitting w with ri...</td>\n",
       "      <td>[maybe, always, thought, hitting, w, ring, fin...</td>\n",
       "      <td>[mayb, alway, thought, hit, w, ring, finger, i...</td>\n",
       "      <td>mayb alway thought hit w ring finger intend do...</td>\n",
       "    </tr>\n",
       "    <tr>\n",
       "      <th>224656</th>\n",
       "      <td>sports</td>\n",
       "      <td>Pogba a total waste imo</td>\n",
       "      <td>pogba a total waste imo</td>\n",
       "      <td>[pogba, total, waste, imo]</td>\n",
       "      <td>[pogba, total, wast, imo]</td>\n",
       "      <td>pogba total wast imo</td>\n",
       "    </tr>\n",
       "    <tr>\n",
       "      <th>79402</th>\n",
       "      <td>video_games</td>\n",
       "      <td>take out prince add musket</td>\n",
       "      <td>take out prince add musket</td>\n",
       "      <td>[take, prince, add, musket]</td>\n",
       "      <td>[take, princ, add, musket]</td>\n",
       "      <td>take princ add musket</td>\n",
       "    </tr>\n",
       "  </tbody>\n",
       "</table>\n",
       "</div>"
      ],
      "text/plain": [
       "                cat                                                txt  \\\n",
       "154821  video_games                                \"...Come watch TV.\"   \n",
       "307711  video_games  Besides, they can't have it both ways!\\n\\nSome...   \n",
       "539151  video_games  Maybe it is?  I always thought hitting w with ...   \n",
       "224656       sports                            Pogba a total waste imo   \n",
       "79402   video_games                         take out prince add musket   \n",
       "\n",
       "                                                txt_clean  \\\n",
       "154821                                     come watch tv    \n",
       "307711  besides they can t have it both ways some say ...   \n",
       "539151  maybe it is i always thought hitting w with ri...   \n",
       "224656                            pogba a total waste imo   \n",
       "79402                          take out prince add musket   \n",
       "\n",
       "                                                txt_token  \\\n",
       "154821                                  [come, watch, tv]   \n",
       "307711  [besides, ways, say, problem, steam, letting, ...   \n",
       "539151  [maybe, always, thought, hitting, w, ring, fin...   \n",
       "224656                         [pogba, total, waste, imo]   \n",
       "79402                         [take, prince, add, musket]   \n",
       "\n",
       "                                                 txt_stem  \\\n",
       "154821                                  [come, watch, tv]   \n",
       "307711  [besid, way, say, problem, steam, let, mani, t...   \n",
       "539151  [mayb, alway, thought, hit, w, ring, finger, i...   \n",
       "224656                          [pogba, total, wast, imo]   \n",
       "79402                          [take, princ, add, musket]   \n",
       "\n",
       "                                                txt_final  \n",
       "154821                                      come watch tv  \n",
       "307711  besid way say problem steam let mani trashwar ...  \n",
       "539151  mayb alway thought hit w ring finger intend do...  \n",
       "224656                               pogba total wast imo  \n",
       "79402                               take princ add musket  "
      ]
     },
     "execution_count": 12,
     "metadata": {},
     "output_type": "execute_result"
    }
   ],
   "source": [
    "#run the cleaning functions on the text\n",
    "df_txt2['txt_clean'] = df_txt2['txt'].apply(clean_text)\n",
    "df_txt2['txt_token'] = df_txt2['txt_clean'].apply(tokenize_and_remove_stop_words)\n",
    "df_txt2['txt_stem'] = df_txt2['txt_token'].apply(stem_text)\n",
    "df_txt2['txt_final'] = df_txt2['txt_stem'].apply(lambda text: ' '.join(text))\n",
    "#display the results\n",
    "df_txt2.head()"
   ]
  },
  {
   "cell_type": "code",
   "execution_count": 13,
   "metadata": {},
   "outputs": [],
   "source": [
    "#split the data to training and test sets\n",
    "text_train, text_test, target_train, target_test = train_test_split(df_txt2['txt_final'], df_txt2['cat'], test_size=0.3)"
   ]
  },
  {
   "cell_type": "code",
   "execution_count": 14,
   "metadata": {},
   "outputs": [],
   "source": [
    "#convert the text into a TFIDF vector\n",
    "from sklearn.feature_extraction.text import TfidfVectorizer\n",
    "tfidf = TfidfVectorizer(max_features = 5000) #only keep the 5000 most common words\n",
    "X_train = tfidf.fit_transform(text_train) #fit the tfidf vector to the training set\n",
    "X_test = tfidf.transform(text_test) #apply the tfidf vectorization to the test set"
   ]
  },
  {
   "cell_type": "code",
   "execution_count": 15,
   "metadata": {},
   "outputs": [
    {
     "name": "stdout",
     "output_type": "stream",
     "text": [
      "(7000, 5000)\n",
      "(3000, 5000)\n"
     ]
    }
   ],
   "source": [
    "#check the input dimensions\n",
    "print(X_train.shape)\n",
    "print(X_test.shape)"
   ]
  },
  {
   "cell_type": "code",
   "execution_count": 16,
   "metadata": {},
   "outputs": [
    {
     "data": {
      "text/plain": [
       "<7000x5000 sparse matrix of type '<class 'numpy.float64'>'\n",
       "\twith 85512 stored elements in Compressed Sparse Row format>"
      ]
     },
     "execution_count": 16,
     "metadata": {},
     "output_type": "execute_result"
    }
   ],
   "source": [
    "#look at X_train\n",
    "X_train"
   ]
  },
  {
   "cell_type": "code",
   "execution_count": 17,
   "metadata": {},
   "outputs": [],
   "source": [
    "import tensorflow as tf"
   ]
  },
  {
   "cell_type": "code",
   "execution_count": 18,
   "metadata": {},
   "outputs": [],
   "source": [
    "#convert the targets to numpy arrays to train/test the model\n",
    "y_train = np.array(target_train)\n",
    "y_test = np.array(target_test)"
   ]
  },
  {
   "cell_type": "code",
   "execution_count": 19,
   "metadata": {},
   "outputs": [
    {
     "name": "stdout",
     "output_type": "stream",
     "text": [
      "(7000,)\n",
      "(3000,)\n"
     ]
    }
   ],
   "source": [
    "print(y_train.shape)\n",
    "print(y_test.shape)"
   ]
  },
  {
   "cell_type": "markdown",
   "metadata": {},
   "source": [
    "## Train the Scikit-learn Neural Network"
   ]
  },
  {
   "cell_type": "code",
   "execution_count": 20,
   "metadata": {},
   "outputs": [],
   "source": [
    "#initialize the scikit-learn model \n",
    "nn_mod1 = MLPClassifier(hidden_layer_sizes = [500,150], verbose = True)"
   ]
  },
  {
   "cell_type": "code",
   "execution_count": 21,
   "metadata": {},
   "outputs": [
    {
     "name": "stdout",
     "output_type": "stream",
     "text": [
      "Iteration 1, loss = 0.76627375\n",
      "Iteration 2, loss = 0.51751171\n",
      "Iteration 3, loss = 0.31356116\n",
      "Iteration 4, loss = 0.18893139\n",
      "Iteration 5, loss = 0.11501665\n",
      "Iteration 6, loss = 0.07548031\n",
      "Iteration 7, loss = 0.05827253\n",
      "Iteration 8, loss = 0.05076101\n",
      "Iteration 9, loss = 0.04456039\n",
      "Iteration 10, loss = 0.04265976\n",
      "Iteration 11, loss = 0.04263782\n",
      "Iteration 12, loss = 0.03894709\n",
      "Iteration 13, loss = 0.04069787\n",
      "Iteration 14, loss = 0.03982441\n",
      "Iteration 15, loss = 0.03913627\n",
      "Iteration 16, loss = 0.03900040\n",
      "Iteration 17, loss = 0.03831180\n",
      "Iteration 18, loss = 0.03911255\n",
      "Iteration 19, loss = 0.03803352\n",
      "Iteration 20, loss = 0.03873651\n",
      "Iteration 21, loss = 0.03894321\n",
      "Iteration 22, loss = 0.03692872\n",
      "Iteration 23, loss = 0.03802519\n",
      "Iteration 24, loss = 0.03746138\n",
      "Iteration 25, loss = 0.03706734\n",
      "Iteration 26, loss = 0.03727141\n",
      "Iteration 27, loss = 0.03621850\n",
      "Iteration 28, loss = 0.03641861\n",
      "Iteration 29, loss = 0.03674427\n",
      "Iteration 30, loss = 0.03713796\n",
      "Iteration 31, loss = 0.03635257\n",
      "Iteration 32, loss = 0.03631138\n",
      "Iteration 33, loss = 0.03687744\n",
      "Iteration 34, loss = 0.03610055\n",
      "Iteration 35, loss = 0.03708611\n",
      "Iteration 36, loss = 0.03577227\n",
      "Iteration 37, loss = 0.03579854\n",
      "Iteration 38, loss = 0.03613264\n",
      "Iteration 39, loss = 0.03632109\n",
      "Iteration 40, loss = 0.03573710\n",
      "Iteration 41, loss = 0.03505513\n",
      "Iteration 42, loss = 0.03527668\n",
      "Iteration 43, loss = 0.03501699\n",
      "Iteration 44, loss = 0.03550905\n",
      "Iteration 45, loss = 0.03474079\n",
      "Iteration 46, loss = 0.03484662\n",
      "Iteration 47, loss = 0.03533928\n",
      "Iteration 48, loss = 0.03504954\n",
      "Iteration 49, loss = 0.03515237\n",
      "Iteration 50, loss = 0.03544238\n",
      "Iteration 51, loss = 0.03601826\n",
      "Iteration 52, loss = 0.03470383\n",
      "Iteration 53, loss = 0.03484331\n",
      "Iteration 54, loss = 0.03430824\n",
      "Iteration 55, loss = 0.03432374\n",
      "Iteration 56, loss = 0.03522318\n",
      "Iteration 57, loss = 0.03501595\n",
      "Iteration 58, loss = 0.03425589\n",
      "Iteration 59, loss = 0.03462161\n",
      "Iteration 60, loss = 0.03410887\n",
      "Iteration 61, loss = 0.03487248\n",
      "Iteration 62, loss = 0.03483108\n",
      "Iteration 63, loss = 0.03429807\n",
      "Iteration 64, loss = 0.03397943\n",
      "Iteration 65, loss = 0.03496476\n",
      "Iteration 66, loss = 0.03391153\n",
      "Iteration 67, loss = 0.03546607\n",
      "Iteration 68, loss = 0.03465581\n",
      "Iteration 69, loss = 0.03459564\n",
      "Iteration 70, loss = 0.03399348\n",
      "Iteration 71, loss = 0.03440248\n",
      "Iteration 72, loss = 0.03382404\n",
      "Iteration 73, loss = 0.03338306\n",
      "Iteration 74, loss = 0.03442518\n",
      "Iteration 75, loss = 0.03421057\n",
      "Iteration 76, loss = 0.03355112\n",
      "Iteration 77, loss = 0.03406865\n",
      "Iteration 78, loss = 0.03443401\n",
      "Iteration 79, loss = 0.03451250\n",
      "Iteration 80, loss = 0.03380601\n",
      "Iteration 81, loss = 0.03348747\n",
      "Iteration 82, loss = 0.03406579\n",
      "Iteration 83, loss = 0.03454050\n",
      "Iteration 84, loss = 0.03437518\n",
      "Training loss did not improve more than tol=0.000100 for 10 consecutive epochs. Stopping.\n"
     ]
    },
    {
     "data": {
      "text/plain": [
       "MLPClassifier(hidden_layer_sizes=[500, 150], verbose=True)"
      ]
     },
     "execution_count": 21,
     "metadata": {},
     "output_type": "execute_result"
    }
   ],
   "source": [
    "#fit the scikit-learn model \n",
    "nn_mod1.fit(X_train,y_train)"
   ]
  },
  {
   "cell_type": "markdown",
   "metadata": {},
   "source": [
    "## Evaluate the Scikit-learn Neural Network## "
   ]
  },
  {
   "cell_type": "code",
   "execution_count": 22,
   "metadata": {},
   "outputs": [],
   "source": [
    "#import yellowbrick evaluation tools\n",
    "from yellowbrick.classifier import ConfusionMatrix\n",
    "from yellowbrick.classifier import ClassificationReport\n",
    "\n",
    "#import matplotlib\n",
    "import matplotlib.pyplot as plt"
   ]
  },
  {
   "cell_type": "code",
   "execution_count": 23,
   "metadata": {},
   "outputs": [],
   "source": [
    "#define the model classes\n",
    "classes = nn_mod1.classes_"
   ]
  },
  {
   "cell_type": "code",
   "execution_count": 24,
   "metadata": {},
   "outputs": [
    {
     "name": "stderr",
     "output_type": "stream",
     "text": [
      "C:\\Users\\brett\\AppData\\Roaming\\Python\\Python36\\site-packages\\yellowbrick\\classifier\\base.py:234: YellowbrickWarning: could not determine class_counts_ from previously fitted classifier\n",
      "  YellowbrickWarning,\n"
     ]
    },
    {
     "name": "stdout",
     "output_type": "stream",
     "text": [
      "Model Accuracy: 77.60000000000001%\n"
     ]
    },
    {
     "data": {
      "image/png": "[encoded data removed]",
      "text/plain": [
       "<Figure size 720x504 with 1 Axes>"
      ]
     },
     "metadata": {},
     "output_type": "display_data"
    },
    {
     "data": {
      "text/plain": [
       "<AxesSubplot:title={'center':'MLPClassifier Confusion Matrix'}, xlabel='Predicted Class', ylabel='True Class'>"
      ]
     },
     "execution_count": 24,
     "metadata": {},
     "output_type": "execute_result"
    }
   ],
   "source": [
    "# evaluate the scikit-learn model\n",
    "#show the model confusion matrix and accuracy\n",
    "plt.rcParams['figure.figsize'] = (10, 7)\n",
    "plt.rcParams['font.size'] = 20\n",
    "cm = ConfusionMatrix(nn_mod1, classes=classes, percent=False)\n",
    "cm.score(X_test, y_test)\n",
    "print('Model Accuracy: ', 100*cm.score(X_test, y_test), '%', sep = '')\n",
    "cm.show()"
   ]
  },
  {
   "cell_type": "code",
   "execution_count": 25,
   "metadata": {},
   "outputs": [
    {
     "name": "stderr",
     "output_type": "stream",
     "text": [
      "C:\\Users\\brett\\AppData\\Roaming\\Python\\Python36\\site-packages\\yellowbrick\\classifier\\base.py:234: YellowbrickWarning: could not determine class_counts_ from previously fitted classifier\n",
      "  YellowbrickWarning,\n"
     ]
    },
    {
     "data": {
      "image/png": "[encoded data removed]",
      "text/plain": [
       "<Figure size 720x504 with 2 Axes>"
      ]
     },
     "metadata": {},
     "output_type": "display_data"
    },
    {
     "data": {
      "text/plain": [
       "<AxesSubplot:title={'center':'MLPClassifier Classification Report'}>"
      ]
     },
     "execution_count": 25,
     "metadata": {},
     "output_type": "execute_result"
    }
   ],
   "source": [
    "# get the classification report\n",
    "# get precision, Recall, and F1 Score\n",
    "\n",
    "plt.rcParams['figure.figsize'] = (10, 7)\n",
    "plt.rcParams['font.size'] = 20\n",
    "\n",
    "# Instantiate the visualizer\n",
    "class_report = ClassificationReport(nn_mod1, classes=classes)\n",
    "\n",
    "class_report.score(X_test, y_test)  # Evaluate the model on the test data\n",
    "class_report.poof()"
   ]
  },
  {
   "cell_type": "markdown",
   "metadata": {},
   "source": [
    "## Build and Train the Keras Text Classification Model"
   ]
  },
  {
   "cell_type": "code",
   "execution_count": 26,
   "metadata": {},
   "outputs": [],
   "source": [
    "#import Keras libraries to build a neural network classifier\n",
    "from keras.layers import Dense\n",
    "from keras.models import Sequential\n",
    "from keras.wrappers.scikit_learn import KerasClassifier"
   ]
  },
  {
   "cell_type": "code",
   "execution_count": 27,
   "metadata": {},
   "outputs": [],
   "source": [
    "#this is the numbe of features output by the tfidf vectorizer\n",
    "N_FEATURES = 5000\n",
    "#there are 3 classes of articles in our data\n",
    "N_CLASSES = 3"
   ]
  },
  {
   "cell_type": "code",
   "execution_count": 28,
   "metadata": {},
   "outputs": [],
   "source": [
    "#build the model architecture\n",
    "def build_network():\n",
    "    nn = Sequential()\n",
    "    nn.add(Dense(500, activation = 'relu', input_shape = (N_FEATURES,)))\n",
    "    nn.add(Dense(150, activation = 'relu'))\n",
    "    nn.add(Dense(N_CLASSES, activation = 'softmax'))\n",
    "    nn.compile(\n",
    "        loss = 'categorical_crossentropy',\n",
    "        optimizer = 'adam',\n",
    "        metrics = ['accuracy']\n",
    "    )\n",
    "    return nn"
   ]
  },
  {
   "cell_type": "code",
   "execution_count": 29,
   "metadata": {},
   "outputs": [
    {
     "name": "stdout",
     "output_type": "stream",
     "text": [
      "Model: \"sequential_1\"\n",
      "_________________________________________________________________\n",
      "Layer (type)                 Output Shape              Param #   \n",
      "=================================================================\n",
      "dense_1 (Dense)              (None, 500)               2500500   \n",
      "_________________________________________________________________\n",
      "dense_2 (Dense)              (None, 150)               75150     \n",
      "_________________________________________________________________\n",
      "dense_3 (Dense)              (None, 3)                 453       \n",
      "=================================================================\n",
      "Total params: 2,576,103\n",
      "Trainable params: 2,576,103\n",
      "Non-trainable params: 0\n",
      "_________________________________________________________________\n"
     ]
    }
   ],
   "source": [
    "nn = build_network()\n",
    "nn.summary()"
   ]
  },
  {
   "cell_type": "code",
   "execution_count": 30,
   "metadata": {},
   "outputs": [
    {
     "name": "stdout",
     "output_type": "stream",
     "text": [
      "(7000, 5000)\n",
      "(3000, 5000)\n",
      "(7000,)\n",
      "(3000,)\n"
     ]
    }
   ],
   "source": [
    "#check input sizes\n",
    "print(X_train.shape)\n",
    "print(X_test.shape)\n",
    "print(y_train.shape)\n",
    "print(y_test.shape)"
   ]
  },
  {
   "cell_type": "code",
   "execution_count": 31,
   "metadata": {},
   "outputs": [
    {
     "name": "stdout",
     "output_type": "stream",
     "text": [
      "Epoch 1/200\n",
      "7000/7000 [==============================] - 3s 399us/step - loss: 0.7171 - accuracy: 0.7090\n",
      "Epoch 2/200\n",
      "7000/7000 [==============================] - 2s 343us/step - loss: 0.4080 - accuracy: 0.8343\n",
      "Epoch 3/200\n",
      "7000/7000 [==============================] - 2s 339us/step - loss: 0.2406 - accuracy: 0.8951\n",
      "Epoch 4/200\n",
      "7000/7000 [==============================] - 2s 342us/step - loss: 0.1402 - accuracy: 0.9510\n",
      "Epoch 5/200\n",
      "7000/7000 [==============================] - 2s 352us/step - loss: 0.0829 - accuracy: 0.9720\n",
      "Epoch 6/200\n",
      "7000/7000 [==============================] - 2s 323us/step - loss: 0.0590 - accuracy: 0.9794\n",
      "Epoch 7/200\n",
      "7000/7000 [==============================] - 2s 319us/step - loss: 0.0494 - accuracy: 0.9811\n",
      "Epoch 8/200\n",
      "7000/7000 [==============================] - 2s 326us/step - loss: 0.0460 - accuracy: 0.98191s - loss: 0.0442  - ETA: 0s - loss: 0\n",
      "Epoch 9/200\n",
      "7000/7000 [==============================] - 2s 330us/step - loss: 0.0444 - accuracy: 0.98260s - loss: 0.041\n",
      "Epoch 10/200\n",
      "7000/7000 [==============================] - 2s 345us/step - loss: 0.0459 - accuracy: 0.9806\n",
      "Epoch 11/200\n",
      "7000/7000 [==============================] - 2s 331us/step - loss: 0.0432 - accuracy: 0.9814\n",
      "Epoch 12/200\n",
      "7000/7000 [==============================] - 2s 333us/step - loss: 0.0415 - accuracy: 0.98171s\n",
      "Epoch 13/200\n",
      "7000/7000 [==============================] - 2s 328us/step - loss: 0.0397 - accuracy: 0.9830\n",
      "Epoch 14/200\n",
      "7000/7000 [==============================] - 2s 330us/step - loss: 0.0389 - accuracy: 0.9830\n",
      "Epoch 15/200\n",
      "7000/7000 [==============================] - 2s 339us/step - loss: 0.0395 - accuracy: 0.9824\n",
      "Epoch 16/200\n",
      "7000/7000 [==============================] - 2s 337us/step - loss: 0.0399 - accuracy: 0.9823\n",
      "Epoch 17/200\n",
      "7000/7000 [==============================] - 2s 329us/step - loss: 0.0410 - accuracy: 0.9824\n",
      "Epoch 18/200\n",
      "7000/7000 [==============================] - 2s 333us/step - loss: 0.0384 - accuracy: 0.98161s - loss: 0 - ETA: 0s - l\n",
      "Epoch 19/200\n",
      "7000/7000 [==============================] - 2s 338us/step - loss: 0.0390 - accuracy: 0.9824\n",
      "Epoch 20/200\n",
      "7000/7000 [==============================] - 2s 338us/step - loss: 0.0388 - accuracy: 0.9819\n",
      "Epoch 21/200\n",
      "7000/7000 [==============================] - 2s 340us/step - loss: 0.0361 - accuracy: 0.9836\n",
      "Epoch 22/200\n",
      "7000/7000 [==============================] - 2s 332us/step - loss: 0.0373 - accuracy: 0.9821\n",
      "Epoch 23/200\n",
      "7000/7000 [==============================] - 2s 334us/step - loss: 0.0361 - accuracy: 0.9833\n",
      "Epoch 24/200\n",
      "7000/7000 [==============================] - 2s 332us/step - loss: 0.0368 - accuracy: 0.98301s -\n",
      "Epoch 25/200\n",
      "7000/7000 [==============================] - 2s 337us/step - loss: 0.0366 - accuracy: 0.9833\n",
      "Epoch 26/200\n",
      "7000/7000 [==============================] - 2s 344us/step - loss: 0.0363 - accuracy: 0.9839\n",
      "Epoch 27/200\n",
      "7000/7000 [==============================] - 2s 353us/step - loss: 0.0389 - accuracy: 0.9816\n",
      "Epoch 28/200\n",
      "7000/7000 [==============================] - 2s 325us/step - loss: 0.0370 - accuracy: 0.9829\n",
      "Epoch 29/200\n",
      "7000/7000 [==============================] - 2s 321us/step - loss: 0.0359 - accuracy: 0.9833\n",
      "Epoch 30/200\n",
      "7000/7000 [==============================] - 2s 325us/step - loss: 0.0354 - accuracy: 0.9827\n",
      "Epoch 31/200\n",
      "7000/7000 [==============================] - 2s 334us/step - loss: 0.0356 - accuracy: 0.9839\n",
      "Epoch 32/200\n",
      "7000/7000 [==============================] - 2s 322us/step - loss: 0.0356 - accuracy: 0.9827\n",
      "Epoch 33/200\n",
      "7000/7000 [==============================] - 2s 329us/step - loss: 0.0347 - accuracy: 0.9834\n",
      "Epoch 34/200\n",
      "7000/7000 [==============================] - 2s 321us/step - loss: 0.0358 - accuracy: 0.9834\n",
      "Epoch 35/200\n",
      "7000/7000 [==============================] - 2s 334us/step - loss: 0.0351 - accuracy: 0.9831\n",
      "Epoch 36/200\n",
      "7000/7000 [==============================] - 2s 332us/step - loss: 0.0342 - accuracy: 0.9836\n",
      "Epoch 37/200\n",
      "7000/7000 [==============================] - 2s 348us/step - loss: 0.0355 - accuracy: 0.9830\n",
      "Epoch 38/200\n",
      "7000/7000 [==============================] - 2s 341us/step - loss: 0.0341 - accuracy: 0.9844\n",
      "Epoch 39/200\n",
      "7000/7000 [==============================] - 2s 319us/step - loss: 0.0348 - accuracy: 0.9827\n",
      "Epoch 40/200\n",
      "7000/7000 [==============================] - 2s 323us/step - loss: 0.0344 - accuracy: 0.9831\n",
      "Epoch 41/200\n",
      "7000/7000 [==============================] - 2s 329us/step - loss: 0.0335 - accuracy: 0.9841\n",
      "Epoch 42/200\n",
      "7000/7000 [==============================] - 2s 326us/step - loss: 0.0338 - accuracy: 0.9833\n",
      "Epoch 43/200\n",
      "7000/7000 [==============================] - 2s 348us/step - loss: 0.0338 - accuracy: 0.9839\n",
      "Epoch 44/200\n",
      "7000/7000 [==============================] - 3s 359us/step - loss: 0.0341 - accuracy: 0.9830\n",
      "Epoch 45/200\n",
      "7000/7000 [==============================] - 3s 363us/step - loss: 0.0334 - accuracy: 0.9836\n",
      "Epoch 46/200\n",
      "7000/7000 [==============================] - 3s 359us/step - loss: 0.0338 - accuracy: 0.9836\n",
      "Epoch 47/200\n",
      "7000/7000 [==============================] - 3s 357us/step - loss: 0.0332 - accuracy: 0.9837\n",
      "Epoch 48/200\n",
      "7000/7000 [==============================] - 2s 352us/step - loss: 0.0344 - accuracy: 0.9834\n",
      "Epoch 49/200\n",
      "7000/7000 [==============================] - 2s 330us/step - loss: 0.0338 - accuracy: 0.9831\n",
      "Epoch 50/200\n",
      "7000/7000 [==============================] - 2s 326us/step - loss: 0.0333 - accuracy: 0.9833\n",
      "Epoch 51/200\n",
      "7000/7000 [==============================] - 2s 336us/step - loss: 0.0331 - accuracy: 0.9837\n",
      "Epoch 52/200\n",
      "7000/7000 [==============================] - 2s 342us/step - loss: 0.0334 - accuracy: 0.9834\n",
      "Epoch 53/200\n",
      "7000/7000 [==============================] - 2s 333us/step - loss: 0.0332 - accuracy: 0.9834\n",
      "Epoch 54/200\n",
      "7000/7000 [==============================] - 2s 349us/step - loss: 0.0330 - accuracy: 0.9833\n",
      "Epoch 55/200\n",
      "7000/7000 [==============================] - 2s 337us/step - loss: 0.0330 - accuracy: 0.9834\n",
      "Epoch 56/200\n",
      "7000/7000 [==============================] - 2s 339us/step - loss: 0.0332 - accuracy: 0.9837\n",
      "Epoch 57/200\n",
      "7000/7000 [==============================] - 2s 340us/step - loss: 0.0334 - accuracy: 0.9841\n",
      "Epoch 58/200\n",
      "7000/7000 [==============================] - 2s 331us/step - loss: 0.0332 - accuracy: 0.9833\n",
      "Epoch 59/200\n",
      "7000/7000 [==============================] - 2s 332us/step - loss: 0.0333 - accuracy: 0.9833\n",
      "Epoch 60/200\n",
      "7000/7000 [==============================] - 2s 335us/step - loss: 0.0336 - accuracy: 0.9831\n",
      "Epoch 61/200\n",
      "7000/7000 [==============================] - 2s 334us/step - loss: 0.0331 - accuracy: 0.9831\n",
      "Epoch 62/200\n",
      "7000/7000 [==============================] - 2s 334us/step - loss: 0.0328 - accuracy: 0.9839\n",
      "Epoch 63/200\n",
      "7000/7000 [==============================] - 2s 327us/step - loss: 0.0327 - accuracy: 0.9839\n",
      "Epoch 64/200\n",
      "7000/7000 [==============================] - 2s 322us/step - loss: 0.0326 - accuracy: 0.9833\n",
      "Epoch 65/200\n",
      "7000/7000 [==============================] - 2s 321us/step - loss: 0.0324 - accuracy: 0.9840\n",
      "Epoch 66/200\n",
      "7000/7000 [==============================] - 2s 322us/step - loss: 0.0327 - accuracy: 0.9834\n",
      "Epoch 67/200\n",
      "7000/7000 [==============================] - 2s 330us/step - loss: 0.0332 - accuracy: 0.9840\n",
      "Epoch 68/200\n",
      "7000/7000 [==============================] - 2s 327us/step - loss: 0.0327 - accuracy: 0.9836\n",
      "Epoch 69/200\n",
      "7000/7000 [==============================] - 2s 322us/step - loss: 0.0332 - accuracy: 0.9844\n",
      "Epoch 70/200\n",
      "7000/7000 [==============================] - 2s 330us/step - loss: 0.0327 - accuracy: 0.9834\n",
      "Epoch 71/200\n",
      "7000/7000 [==============================] - 2s 322us/step - loss: 0.0325 - accuracy: 0.9840\n",
      "Epoch 72/200\n",
      "7000/7000 [==============================] - 2s 339us/step - loss: 0.0325 - accuracy: 0.9847\n",
      "Epoch 73/200\n",
      "7000/7000 [==============================] - 2s 329us/step - loss: 0.0324 - accuracy: 0.9840\n",
      "Epoch 74/200\n",
      "7000/7000 [==============================] - 2s 329us/step - loss: 0.0323 - accuracy: 0.9841\n",
      "Epoch 75/200\n",
      "7000/7000 [==============================] - 2s 326us/step - loss: 0.0325 - accuracy: 0.9841\n",
      "Epoch 76/200\n",
      "7000/7000 [==============================] - 2s 330us/step - loss: 0.0328 - accuracy: 0.9837\n",
      "Epoch 77/200\n",
      "7000/7000 [==============================] - 2s 352us/step - loss: 0.0320 - accuracy: 0.9847\n",
      "Epoch 78/200\n",
      "7000/7000 [==============================] - 2s 322us/step - loss: 0.0323 - accuracy: 0.9840\n",
      "Epoch 79/200\n",
      "7000/7000 [==============================] - 2s 315us/step - loss: 0.0321 - accuracy: 0.9840\n",
      "Epoch 80/200\n",
      "7000/7000 [==============================] - 2s 314us/step - loss: 0.0322 - accuracy: 0.9839\n",
      "Epoch 81/200\n",
      "7000/7000 [==============================] - 2s 336us/step - loss: 0.0321 - accuracy: 0.9837\n",
      "Epoch 82/200\n",
      "7000/7000 [==============================] - 2s 347us/step - loss: 0.0318 - accuracy: 0.9840\n",
      "Epoch 83/200\n",
      "7000/7000 [==============================] - 2s 357us/step - loss: 0.0318 - accuracy: 0.9840\n",
      "Epoch 84/200\n",
      "7000/7000 [==============================] - 2s 340us/step - loss: 0.0321 - accuracy: 0.9846\n",
      "Epoch 85/200\n",
      "7000/7000 [==============================] - 3s 359us/step - loss: 0.0321 - accuracy: 0.9833\n",
      "Epoch 86/200\n",
      "7000/7000 [==============================] - 2s 324us/step - loss: 0.0325 - accuracy: 0.9846\n",
      "Epoch 87/200\n",
      "7000/7000 [==============================] - 2s 331us/step - loss: 0.0322 - accuracy: 0.9840\n",
      "Epoch 88/200\n",
      "7000/7000 [==============================] - 2s 325us/step - loss: 0.0318 - accuracy: 0.9847\n",
      "Epoch 89/200\n",
      "7000/7000 [==============================] - 2s 319us/step - loss: 0.0319 - accuracy: 0.9834\n",
      "Epoch 90/200\n",
      "7000/7000 [==============================] - 2s 320us/step - loss: 0.0318 - accuracy: 0.98330s - loss: 0\n",
      "Epoch 91/200\n",
      "7000/7000 [==============================] - 2s 325us/step - loss: 0.0319 - accuracy: 0.9841\n",
      "Epoch 92/200\n",
      "7000/7000 [==============================] - 2s 336us/step - loss: 0.0321 - accuracy: 0.9840\n",
      "Epoch 93/200\n",
      "7000/7000 [==============================] - 2s 350us/step - loss: 0.0319 - accuracy: 0.9836\n",
      "Epoch 94/200\n",
      "7000/7000 [==============================] - 2s 346us/step - loss: 0.0322 - accuracy: 0.9843\n",
      "Epoch 95/200\n",
      "7000/7000 [==============================] - 2s 346us/step - loss: 0.0317 - accuracy: 0.9841\n",
      "Epoch 96/200\n",
      "7000/7000 [==============================] - 2s 335us/step - loss: 0.0318 - accuracy: 0.9839\n",
      "Epoch 97/200\n",
      "7000/7000 [==============================] - 2s 332us/step - loss: 0.0319 - accuracy: 0.9844\n",
      "Epoch 98/200\n",
      "7000/7000 [==============================] - 2s 346us/step - loss: 0.0316 - accuracy: 0.9851\n",
      "Epoch 99/200\n",
      "7000/7000 [==============================] - 2s 340us/step - loss: 0.0317 - accuracy: 0.9839\n",
      "Epoch 100/200\n",
      "7000/7000 [==============================] - 2s 333us/step - loss: 0.0317 - accuracy: 0.9839\n",
      "Epoch 101/200\n",
      "7000/7000 [==============================] - 2s 317us/step - loss: 0.0319 - accuracy: 0.9834\n",
      "Epoch 102/200\n",
      "7000/7000 [==============================] - 2s 314us/step - loss: 0.0320 - accuracy: 0.9839\n",
      "Epoch 103/200\n",
      "7000/7000 [==============================] - 2s 327us/step - loss: 0.0323 - accuracy: 0.9846\n",
      "Epoch 104/200\n",
      "7000/7000 [==============================] - 2s 318us/step - loss: 0.0316 - accuracy: 0.9853\n",
      "Epoch 105/200\n",
      "7000/7000 [==============================] - 2s 324us/step - loss: 0.0317 - accuracy: 0.98400s - los\n",
      "Epoch 106/200\n",
      "7000/7000 [==============================] - 2s 321us/step - loss: 0.0322 - accuracy: 0.9837\n",
      "Epoch 107/200\n",
      "7000/7000 [==============================] - 2s 325us/step - loss: 0.0319 - accuracy: 0.9847\n",
      "Epoch 108/200\n",
      "7000/7000 [==============================] - 2s 324us/step - loss: 0.0315 - accuracy: 0.98370s - loss: 0.0\n",
      "Epoch 109/200\n",
      "7000/7000 [==============================] - 2s 323us/step - loss: 0.0318 - accuracy: 0.98410s - loss: 0.0325 - accuracy\n",
      "Epoch 110/200\n",
      "7000/7000 [==============================] - 2s 320us/step - loss: 0.0316 - accuracy: 0.9844\n",
      "Epoch 111/200\n",
      "7000/7000 [==============================] - 2s 320us/step - loss: 0.0316 - accuracy: 0.9836\n",
      "Epoch 112/200\n",
      "7000/7000 [==============================] - 2s 321us/step - loss: 0.0317 - accuracy: 0.9841\n",
      "Epoch 113/200\n",
      "7000/7000 [==============================] - 2s 329us/step - loss: 0.0315 - accuracy: 0.9843\n",
      "Epoch 114/200\n",
      "7000/7000 [==============================] - 2s 323us/step - loss: 0.0318 - accuracy: 0.9843\n",
      "Epoch 115/200\n",
      "7000/7000 [==============================] - 2s 324us/step - loss: 0.0317 - accuracy: 0.9846\n",
      "Epoch 116/200\n",
      "7000/7000 [==============================] - 2s 323us/step - loss: 0.0315 - accuracy: 0.9841\n",
      "Epoch 117/200\n",
      "7000/7000 [==============================] - 2s 320us/step - loss: 0.0317 - accuracy: 0.9836\n",
      "Epoch 118/200\n",
      "7000/7000 [==============================] - 2s 331us/step - loss: 0.0317 - accuracy: 0.9847\n",
      "Epoch 119/200\n",
      "7000/7000 [==============================] - 2s 323us/step - loss: 0.0316 - accuracy: 0.9841\n",
      "Epoch 120/200\n",
      "7000/7000 [==============================] - 2s 321us/step - loss: 0.0315 - accuracy: 0.9841\n",
      "Epoch 121/200\n",
      "7000/7000 [==============================] - 2s 326us/step - loss: 0.0317 - accuracy: 0.9847\n",
      "Epoch 122/200\n",
      "7000/7000 [==============================] - 2s 329us/step - loss: 0.0317 - accuracy: 0.9839\n",
      "Epoch 123/200\n",
      "7000/7000 [==============================] - 2s 333us/step - loss: 0.0314 - accuracy: 0.9836\n",
      "Epoch 124/200\n",
      "7000/7000 [==============================] - 2s 322us/step - loss: 0.0314 - accuracy: 0.9851\n",
      "Epoch 125/200\n",
      "7000/7000 [==============================] - 2s 313us/step - loss: 0.0313 - accuracy: 0.9843\n",
      "Epoch 126/200\n",
      "7000/7000 [==============================] - 2s 317us/step - loss: 0.0321 - accuracy: 0.9843\n",
      "Epoch 127/200\n",
      "7000/7000 [==============================] - 2s 331us/step - loss: 0.0317 - accuracy: 0.9840\n",
      "Epoch 128/200\n",
      "7000/7000 [==============================] - 3s 365us/step - loss: 0.0318 - accuracy: 0.9843\n",
      "Epoch 129/200\n",
      "7000/7000 [==============================] - 2s 348us/step - loss: 0.0317 - accuracy: 0.9837\n",
      "Epoch 130/200\n",
      "7000/7000 [==============================] - 2s 330us/step - loss: 0.0316 - accuracy: 0.9846\n",
      "Epoch 131/200\n",
      "7000/7000 [==============================] - 2s 328us/step - loss: 0.0315 - accuracy: 0.9841\n",
      "Epoch 132/200\n",
      "7000/7000 [==============================] - 2s 334us/step - loss: 0.0315 - accuracy: 0.9840\n",
      "Epoch 133/200\n",
      "7000/7000 [==============================] - 3s 358us/step - loss: 0.0322 - accuracy: 0.9836\n",
      "Epoch 134/200\n",
      "7000/7000 [==============================] - 2s 340us/step - loss: 0.0315 - accuracy: 0.9841\n",
      "Epoch 135/200\n",
      "7000/7000 [==============================] - 2s 331us/step - loss: 0.0316 - accuracy: 0.9850\n",
      "Epoch 136/200\n",
      "7000/7000 [==============================] - 2s 336us/step - loss: 0.0313 - accuracy: 0.9843\n",
      "Epoch 137/200\n",
      "7000/7000 [==============================] - 2s 336us/step - loss: 0.0314 - accuracy: 0.9849\n",
      "Epoch 138/200\n",
      "7000/7000 [==============================] - 2s 342us/step - loss: 0.0316 - accuracy: 0.9849\n",
      "Epoch 139/200\n",
      "7000/7000 [==============================] - 2s 336us/step - loss: 0.0313 - accuracy: 0.9847\n",
      "Epoch 140/200\n",
      "7000/7000 [==============================] - 2s 320us/step - loss: 0.0318 - accuracy: 0.9847\n",
      "Epoch 141/200\n",
      "7000/7000 [==============================] - 2s 321us/step - loss: 0.0315 - accuracy: 0.9851\n",
      "Epoch 142/200\n",
      "7000/7000 [==============================] - 2s 321us/step - loss: 0.0317 - accuracy: 0.9847\n",
      "Epoch 143/200\n",
      "7000/7000 [==============================] - 2s 333us/step - loss: 0.0313 - accuracy: 0.9843\n",
      "Epoch 144/200\n",
      "7000/7000 [==============================] - 2s 327us/step - loss: 0.0316 - accuracy: 0.9850\n",
      "Epoch 145/200\n",
      "7000/7000 [==============================] - 2s 323us/step - loss: 0.0314 - accuracy: 0.9839\n",
      "Epoch 146/200\n",
      "7000/7000 [==============================] - 2s 337us/step - loss: 0.0313 - accuracy: 0.9846\n",
      "Epoch 147/200\n",
      "7000/7000 [==============================] - 2s 333us/step - loss: 0.0314 - accuracy: 0.9846\n",
      "Epoch 148/200\n",
      "7000/7000 [==============================] - 2s 342us/step - loss: 0.0315 - accuracy: 0.9846\n",
      "Epoch 149/200\n",
      "7000/7000 [==============================] - 2s 336us/step - loss: 0.0314 - accuracy: 0.9847\n",
      "Epoch 150/200\n",
      "7000/7000 [==============================] - 2s 343us/step - loss: 0.0317 - accuracy: 0.9844\n",
      "Epoch 151/200\n",
      "7000/7000 [==============================] - 2s 341us/step - loss: 0.0313 - accuracy: 0.9843\n",
      "Epoch 152/200\n",
      "7000/7000 [==============================] - 2s 336us/step - loss: 0.0313 - accuracy: 0.9853\n",
      "Epoch 153/200\n"
     ]
    },
    {
     "name": "stdout",
     "output_type": "stream",
     "text": [
      "7000/7000 [==============================] - 2s 338us/step - loss: 0.0315 - accuracy: 0.9844\n",
      "Epoch 154/200\n",
      "7000/7000 [==============================] - 2s 328us/step - loss: 0.0315 - accuracy: 0.9834\n",
      "Epoch 155/200\n",
      "7000/7000 [==============================] - 2s 329us/step - loss: 0.0315 - accuracy: 0.9843\n",
      "Epoch 156/200\n",
      "7000/7000 [==============================] - 2s 332us/step - loss: 0.0313 - accuracy: 0.9843\n",
      "Epoch 157/200\n",
      "7000/7000 [==============================] - 2s 333us/step - loss: 0.0314 - accuracy: 0.9847\n",
      "Epoch 158/200\n",
      "7000/7000 [==============================] - 2s 352us/step - loss: 0.0314 - accuracy: 0.9841\n",
      "Epoch 159/200\n",
      "7000/7000 [==============================] - 2s 340us/step - loss: 0.0312 - accuracy: 0.9844\n",
      "Epoch 160/200\n",
      "7000/7000 [==============================] - 2s 340us/step - loss: 0.0313 - accuracy: 0.9851\n",
      "Epoch 161/200\n",
      "7000/7000 [==============================] - 2s 341us/step - loss: 0.0312 - accuracy: 0.9850\n",
      "Epoch 162/200\n",
      "7000/7000 [==============================] - 2s 347us/step - loss: 0.0313 - accuracy: 0.9850\n",
      "Epoch 163/200\n",
      "7000/7000 [==============================] - 2s 352us/step - loss: 0.0312 - accuracy: 0.9847\n",
      "Epoch 164/200\n",
      "7000/7000 [==============================] - 2s 349us/step - loss: 0.0314 - accuracy: 0.9846\n",
      "Epoch 165/200\n",
      "7000/7000 [==============================] - 3s 365us/step - loss: 0.0312 - accuracy: 0.9847\n",
      "Epoch 166/200\n",
      "7000/7000 [==============================] - 3s 364us/step - loss: 0.0314 - accuracy: 0.9846\n",
      "Epoch 167/200\n",
      "7000/7000 [==============================] - 3s 372us/step - loss: 0.0314 - accuracy: 0.9849\n",
      "Epoch 168/200\n",
      "7000/7000 [==============================] - 3s 372us/step - loss: 0.0312 - accuracy: 0.9847\n",
      "Epoch 169/200\n",
      "7000/7000 [==============================] - 2s 354us/step - loss: 0.0312 - accuracy: 0.9846\n",
      "Epoch 170/200\n",
      "7000/7000 [==============================] - 2s 345us/step - loss: 0.0312 - accuracy: 0.9847\n",
      "Epoch 171/200\n",
      "7000/7000 [==============================] - 2s 347us/step - loss: 0.0312 - accuracy: 0.9841\n",
      "Epoch 172/200\n",
      "7000/7000 [==============================] - 2s 355us/step - loss: 0.0314 - accuracy: 0.98471s - los\n",
      "Epoch 173/200\n",
      "7000/7000 [==============================] - 2s 354us/step - loss: 0.0312 - accuracy: 0.9851\n",
      "Epoch 174/200\n",
      "7000/7000 [==============================] - 2s 336us/step - loss: 0.0312 - accuracy: 0.9846\n",
      "Epoch 175/200\n",
      "7000/7000 [==============================] - 2s 317us/step - loss: 0.0311 - accuracy: 0.98430s - loss: 0.0332 - accura\n",
      "Epoch 176/200\n",
      "7000/7000 [==============================] - 2s 334us/step - loss: 0.0312 - accuracy: 0.9847\n",
      "Epoch 177/200\n",
      "7000/7000 [==============================] - 2s 341us/step - loss: 0.0312 - accuracy: 0.9841\n",
      "Epoch 178/200\n",
      "7000/7000 [==============================] - 2s 356us/step - loss: 0.0312 - accuracy: 0.9839\n",
      "Epoch 179/200\n",
      "7000/7000 [==============================] - 2s 330us/step - loss: 0.0312 - accuracy: 0.9846\n",
      "Epoch 180/200\n",
      "7000/7000 [==============================] - 2s 324us/step - loss: 0.0317 - accuracy: 0.9839\n",
      "Epoch 181/200\n",
      "7000/7000 [==============================] - 2s 324us/step - loss: 0.0311 - accuracy: 0.9850\n",
      "Epoch 182/200\n",
      "7000/7000 [==============================] - 2s 335us/step - loss: 0.0311 - accuracy: 0.9849\n",
      "Epoch 183/200\n",
      "7000/7000 [==============================] - 2s 331us/step - loss: 0.0313 - accuracy: 0.9846\n",
      "Epoch 184/200\n",
      "7000/7000 [==============================] - 2s 329us/step - loss: 0.0313 - accuracy: 0.9843\n",
      "Epoch 185/200\n",
      "7000/7000 [==============================] - 2s 326us/step - loss: 0.0311 - accuracy: 0.9847\n",
      "Epoch 186/200\n",
      "7000/7000 [==============================] - 2s 330us/step - loss: 0.0313 - accuracy: 0.9843\n",
      "Epoch 187/200\n",
      "7000/7000 [==============================] - 2s 336us/step - loss: 0.0311 - accuracy: 0.9847\n",
      "Epoch 188/200\n",
      "7000/7000 [==============================] - 2s 326us/step - loss: 0.0311 - accuracy: 0.9850\n",
      "Epoch 189/200\n",
      "7000/7000 [==============================] - 2s 322us/step - loss: 0.0311 - accuracy: 0.9847\n",
      "Epoch 190/200\n",
      "7000/7000 [==============================] - 2s 323us/step - loss: 0.0311 - accuracy: 0.9849\n",
      "Epoch 191/200\n",
      "7000/7000 [==============================] - 2s 334us/step - loss: 0.0311 - accuracy: 0.9841\n",
      "Epoch 192/200\n",
      "7000/7000 [==============================] - 2s 341us/step - loss: 0.0311 - accuracy: 0.9837\n",
      "Epoch 193/200\n",
      "7000/7000 [==============================] - 2s 314us/step - loss: 0.0311 - accuracy: 0.98500s - loss: 0.0302 - accuracy: \n",
      "Epoch 194/200\n",
      "7000/7000 [==============================] - 2s 316us/step - loss: 0.0312 - accuracy: 0.9841\n",
      "Epoch 195/200\n",
      "7000/7000 [==============================] - 2s 319us/step - loss: 0.0312 - accuracy: 0.98460s - loss: 0.0339 - \n",
      "Epoch 196/200\n",
      "7000/7000 [==============================] - 2s 319us/step - loss: 0.0311 - accuracy: 0.9847\n",
      "Epoch 197/200\n",
      "7000/7000 [==============================] - 2s 334us/step - loss: 0.0312 - accuracy: 0.9850\n",
      "Epoch 198/200\n",
      "7000/7000 [==============================] - 2s 332us/step - loss: 0.0315 - accuracy: 0.9847\n",
      "Epoch 199/200\n",
      "7000/7000 [==============================] - 2s 330us/step - loss: 0.0312 - accuracy: 0.9849\n",
      "Epoch 200/200\n",
      "7000/7000 [==============================] - 2s 325us/step - loss: 0.0312 - accuracy: 0.9849\n"
     ]
    },
    {
     "data": {
      "text/plain": [
       "<keras.callbacks.callbacks.History at 0x29c1a305dd8>"
      ]
     },
     "execution_count": 31,
     "metadata": {},
     "output_type": "execute_result"
    }
   ],
   "source": [
    "#train the model\n",
    "nn_mod2 = KerasClassifier(build_fn = build_network, epochs = 200, batch_size = 128)\n",
    "#nn_mod2.fit(X_train, y_train, validation_data = (X_val, y_val))\n",
    "nn_mod2.fit(X_train, y_train)"
   ]
  },
  {
   "cell_type": "code",
   "execution_count": 32,
   "metadata": {},
   "outputs": [
    {
     "data": {
      "text/plain": [
       "array(['science_and_technology', 'sports', 'video_games'], dtype='<U22')"
      ]
     },
     "execution_count": 32,
     "metadata": {},
     "output_type": "execute_result"
    }
   ],
   "source": [
    "#define the model classes\n",
    "classes = nn_mod1.classes_\n",
    "classes"
   ]
  },
  {
   "cell_type": "code",
   "execution_count": 82,
   "metadata": {},
   "outputs": [],
   "source": [
    "# Apparently, yellowbrick does not work properly with \n",
    "# keras models, so this code doesn't work\n",
    "\n",
    "# evaluate the scikit-learn model\n",
    "#show the model confusion matrix and accuracy\n",
    "#plt.rcParams['figure.figsize'] = (10, 7)\n",
    "#plt.rcParams['font.size'] = 20\n",
    "#cm = ConfusionMatrix(nn_mod2, classes=classes, percent=False)\n",
    "#cm.score(X_test, y_test)\n",
    "#print('Model Accuracy: ', 100*cm.score(X_test, y_test), '%', sep = '')\n",
    "#cm.show()"
   ]
  },
  {
   "cell_type": "code",
   "execution_count": 33,
   "metadata": {},
   "outputs": [],
   "source": [
    "#use the scikit-learn packages\n",
    "from sklearn.metrics import accuracy_score\n",
    "from sklearn.metrics import confusion_matrix\n",
    "from sklearn.metrics import classification_report"
   ]
  },
  {
   "cell_type": "code",
   "execution_count": 34,
   "metadata": {},
   "outputs": [],
   "source": [
    "#get model predictions\n",
    "nn_mod2_pred = nn_mod2.predict(X_test)"
   ]
  },
  {
   "cell_type": "code",
   "execution_count": 35,
   "metadata": {},
   "outputs": [
    {
     "name": "stdout",
     "output_type": "stream",
     "text": [
      "Model Accuracy: 77.0%\n",
      "[[  45   16   65]\n",
      " [   5  361  367]\n",
      " [  20  217 1904]]\n",
      "['science_and_technology' 'sports' 'video_games']\n"
     ]
    }
   ],
   "source": [
    "#get the model accuracy\n",
    "accuracy = accuracy_score(y_test, nn_mod2_pred)\n",
    "print('Model Accuracy: ',  100*accuracy, '%', sep = '')\n",
    "#create the confusion matrix\n",
    "conf_matrix = confusion_matrix(y_test, nn_mod2_pred)\n",
    "print(conf_matrix)\n",
    "print(nn_mod2.classes_)"
   ]
  },
  {
   "cell_type": "code",
   "execution_count": 36,
   "metadata": {},
   "outputs": [
    {
     "name": "stdout",
     "output_type": "stream",
     "text": [
      "                        precision    recall  f1-score   support\n",
      "\n",
      "science_and_technology       0.64      0.36      0.46       126\n",
      "                sports       0.61      0.49      0.54       733\n",
      "           video_games       0.82      0.89      0.85      2141\n",
      "\n",
      "              accuracy                           0.77      3000\n",
      "             macro avg       0.69      0.58      0.62      3000\n",
      "          weighted avg       0.76      0.77      0.76      3000\n",
      "\n"
     ]
    }
   ],
   "source": [
    "#get the classification report\n",
    "class_report = classification_report(y_test, nn_mod2_pred)\n",
    "print(class_report)"
   ]
  },
  {
   "cell_type": "markdown",
   "metadata": {},
   "source": [
    "# Classifying MSINT Images using a Convolutional Neural Network"
   ]
  },
  {
   "cell_type": "code",
   "execution_count": 37,
   "metadata": {},
   "outputs": [],
   "source": [
    "# import Keras packages\n",
    "from keras.datasets import mnist\n",
    "from keras.models import Sequential\n",
    "from keras.layers import Dense, Dropout, Flatten\n",
    "from keras.layers.convolutional import Conv2D, MaxPooling2D\n",
    "from keras import backend as K"
   ]
  },
  {
   "cell_type": "code",
   "execution_count": 38,
   "metadata": {},
   "outputs": [],
   "source": [
    "#Set the color channel value first\n",
    "K.set_image_data_format('channels_first')\n",
    "\n",
    "#Set random seed\n",
    "np.random.seed(0)\n",
    "\n",
    "#Set image information\n",
    "channels = 1\n",
    "height = 28\n",
    "width = 28"
   ]
  },
  {
   "cell_type": "code",
   "execution_count": 39,
   "metadata": {},
   "outputs": [],
   "source": [
    "# Load MNIST data\n",
    "(data_train, target_train), (data_test, target_test) = mnist.load_data()\n",
    "#reshape the training data\n",
    "data_train = data_train.reshape(data_train.shape[0], channels, height, width)\n",
    "#reshape the test data\n",
    "data_test = data_test.reshape(data_test.shape[0], channels, height, width)"
   ]
  },
  {
   "cell_type": "code",
   "execution_count": 40,
   "metadata": {},
   "outputs": [
    {
     "name": "stdout",
     "output_type": "stream",
     "text": [
      "(60000, 1, 28, 28)\n",
      "(10000, 1, 28, 28)\n"
     ]
    }
   ],
   "source": [
    "#Look at training data shape\n",
    "print(data_train.shape)\n",
    "#Look at test data shape\n",
    "print(data_test.shape)"
   ]
  },
  {
   "cell_type": "code",
   "execution_count": 41,
   "metadata": {},
   "outputs": [],
   "source": [
    "#rescale the pixel intensity between 0 and 1\n",
    "features_train = data_train/255\n",
    "features_test = data_test/255"
   ]
  },
  {
   "cell_type": "code",
   "execution_count": 42,
   "metadata": {},
   "outputs": [],
   "source": [
    "# Keras has a built in function for catergoial encoding which we saw in the MNIST workbook\n",
    "from keras.utils.np_utils import to_categorical\n",
    "#one-hot encode the targets\n",
    "target_train = to_categorical(target_train)\n",
    "target_test = to_categorical(target_test)\n",
    "#get the number of classes from the target\n",
    "num_of_classes = target_test.shape[1]"
   ]
  },
  {
   "cell_type": "code",
   "execution_count": 43,
   "metadata": {},
   "outputs": [
    {
     "name": "stdout",
     "output_type": "stream",
     "text": [
      "(60000, 10)\n",
      "(10000, 10)\n"
     ]
    }
   ],
   "source": [
    "#view the target shapes\n",
    "print(target_train.shape)\n",
    "print(target_test.shape)"
   ]
  },
  {
   "cell_type": "code",
   "execution_count": 44,
   "metadata": {},
   "outputs": [],
   "source": [
    "#build the neural network\n",
    "cnn = Sequential()\n",
    "\n",
    "#Add a convolutional layer with 64 filters, a 5 x 5 window, and a ReLU activation function\n",
    "cnn.add(Conv2D(filters = 64,\n",
    "                  kernel_size = (5,5),\n",
    "                  input_shape = (channels, width, height),\n",
    "                  activation = 'relu'))\n",
    "\n",
    "#Add a max pooling layer with a 2 x 2 window\n",
    "cnn.add(MaxPooling2D(pool_size=(2,2)))\n",
    "        \n",
    "#Add a dropout layer\n",
    "cnn.add(Dropout(0.5))\n",
    "        \n",
    "#Add a layer to flatten input\n",
    "cnn.add(Flatten())\n",
    "        \n",
    "#Add a fully connected layer with 128 units and ReLU activation function\n",
    "cnn.add(Dense(128, activation = 'relu'))\n",
    "        \n",
    "#add a dropout layer\n",
    "#cnn.add(Dropout(0.5))\n",
    "\n",
    "#add a fully connected layer with softmax activation function\n",
    "cnn.add(Dense(num_of_classes, activation = 'softmax'))\n",
    "        \n",
    "#compile the model\n",
    "cnn.compile(loss = 'categorical_crossentropy',\n",
    "            optimizer = 'rmsprop', #rms propogation\n",
    "            metrics = ['accuracy']) #accuracy performance metric        "
   ]
  },
  {
   "cell_type": "code",
   "execution_count": 45,
   "metadata": {},
   "outputs": [
    {
     "name": "stdout",
     "output_type": "stream",
     "text": [
      "Train on 60000 samples, validate on 10000 samples\n",
      "Epoch 1/2\n",
      "60000/60000 [==============================] - 50s 836us/step - loss: 0.4953 - accuracy: 0.8500 - val_loss: 0.2008 - val_accuracy: 0.9405\n",
      "Epoch 2/2\n",
      "60000/60000 [==============================] - 50s 830us/step - loss: 0.1478 - accuracy: 0.9561 - val_loss: 0.1119 - val_accuracy: 0.9673\n"
     ]
    },
    {
     "data": {
      "text/plain": [
       "<keras.callbacks.callbacks.History at 0x29c1a588eb8>"
      ]
     },
     "execution_count": 45,
     "metadata": {},
     "output_type": "execute_result"
    }
   ],
   "source": [
    "#train the convolutional NN\n",
    "cnn.fit(features_train, #input features\n",
    "       target_train, #target\n",
    "       epochs = 2, #number of epochs\n",
    "       verbose = 1, #show details after each epoch\n",
    "       batch_size = 1000, #number of observation per batch\n",
    "       validation_data = (features_test, target_test)) #evaluation data"
   ]
  },
  {
   "cell_type": "code",
   "execution_count": 46,
   "metadata": {},
   "outputs": [
    {
     "name": "stdout",
     "output_type": "stream",
     "text": [
      "10000/10000 [==============================] - 4s 414us/step\n",
      "Model Accuracy: 96.72999978065491%\n"
     ]
    }
   ],
   "source": [
    "test_loss, test_acc = cnn.evaluate(features_test, target_test)\n",
    "print('Model Accuracy: ', 100*test_acc, '%', sep = '')\n",
    "#cnn.evaluate(features_test, target_test)"
   ]
  },
  {
   "cell_type": "markdown",
   "metadata": {},
   "source": [
    "# Conclusions\n",
    "\n",
    "We built two text classification models. One was with Scikit-learn and the other with Keras with very little tuning/testing. The Scikit-learn model attained a test accuracy of 77.6% and the Keras model attained a test accuracy of 77.0%. So, both models have very similar results.\n",
    "\n",
    "We also build a Keras model on the MNIST digits data set. This model has a test accuracy of 96.73%."
   ]
  }
 ],
 "metadata": {
  "kernelspec": {
   "display_name": "Python 3 (ipykernel)",
   "language": "python",
   "name": "python3"
  },
  "language_info": {
   "codemirror_mode": {
    "name": "ipython",
    "version": 3
   },
   "file_extension": ".py",
   "mimetype": "text/x-python",
   "name": "python",
   "nbconvert_exporter": "python",
   "pygments_lexer": "ipython3",
   "version": "3.8.13"
  }
 },
 "nbformat": 4,
 "nbformat_minor": 2
}
